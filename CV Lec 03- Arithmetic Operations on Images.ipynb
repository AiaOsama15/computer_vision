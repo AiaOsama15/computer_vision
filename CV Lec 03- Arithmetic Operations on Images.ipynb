{
 "cells": [
  {
   "cell_type": "code",
   "execution_count": 37,
   "id": "a7288733",
   "metadata": {},
   "outputs": [
    {
     "name": "stdout",
     "output_type": "stream",
     "text": [
      "Done! Extracted Successfully\n"
     ]
    }
   ],
   "source": [
    "#######  Revision  #########\n",
    "# Converting video into frames\n",
    "\n",
    "import cv2\n",
    "#import matplotlib.pyplot as plt\n",
    "\n",
    "video = cv2.VideoCapture('d.mp4')\n",
    "count = 1\n",
    "while True:\n",
    "    ret,frame = video.read()\n",
    "    path = 'H:/new/'+str(count)+'.jpg'\n",
    "    if ret == True:\n",
    "        cv2.imwrite(path,frame)\n",
    "        count = count+1 \n",
    "    else:\n",
    "        break\n",
    "print (\"Done! Extracted Successfully\")"
   ]
  },
  {
   "cell_type": "markdown",
   "id": "8e3587f4",
   "metadata": {},
   "source": [
    "Arithmetic Operations like Addition, Subtraction, and Bitwise Operations(AND, OR, NOT, XOR) can be applied to the input images.\n",
    "\n",
    "These operations can be helpful in enhancing the properties of the input images.\n",
    "\n",
    "The Image arithmetics are important for analyzing the input image properties.\n",
    "\n",
    "The operated images can be further used as an enhanced input image, and many more operations can be applied for clarifying, thresholding, dilating etc of the image. "
   ]
  },
  {
   "cell_type": "markdown",
   "id": "54e12589",
   "metadata": {},
   "source": [
    "Addition of Image:\n",
    "\n",
    "We can add two images by using function cv2.add().\n",
    "\n",
    "This directly adds up image pixels in the two images.\n",
    "\n",
    "But adding the pixels is not an ideal situation. So, we use cv2.addweighted(). \n",
    "\n",
    "Remember, both images should be of equal size and depth. "
   ]
  },
  {
   "cell_type": "code",
   "execution_count": 47,
   "id": "13ce43a3",
   "metadata": {},
   "outputs": [
    {
     "name": "stdout",
     "output_type": "stream",
     "text": [
      "(400, 600, 3)\n"
     ]
    }
   ],
   "source": [
    "import cv2 \n",
    "import numpy as np \n",
    "\n",
    "image1 = cv2.imread(r'png.png') \n",
    "image2 = cv2.imread(r'dep.jpg')\n",
    "\n",
    "\n",
    "print (image2.shape)\n",
    "# print (image1.size)\n",
    "# print (image1.dtype)\n",
    "\n",
    "image1=cv2.resize(image1,(600,500))\n",
    "image2=cv2.resize(image2,(600,500))\n",
    "cv2.imshow('1st Img', image1)\n",
    "cv2.imshow('2nd Img', image2)\n",
    "\n",
    "image3 = cv2.add(image1, image2)\n",
    "cv2.imshow('3rd', image3)\n",
    "  \n",
    "# # # cv2.addWeighted is applied over the\n",
    "# # # image inputs with applied parameters\n",
    "weightedSum = cv2.addWeighted(image1, 0.2, image2, 0.5, 0)#gammaValue: Measurement of light\n",
    "  \n",
    "cv2.imshow('Weighted Image', weightedSum)\n",
    "  \n",
    "# # De-allocate any associated memory usage  \n",
    "if cv2.waitKey(0) & 0xff == 27: \n",
    "    cv2.destroyAllWindows()"
   ]
  },
  {
   "cell_type": "code",
   "execution_count": 48,
   "id": "8952173d",
   "metadata": {},
   "outputs": [],
   "source": [
    "#Image Subtraction\n",
    "image3 = cv2.subtract(image1, image2)\n",
    "cv2.imshow('Subtraction', image3)\n",
    "if cv2.waitKey(0) & 0xff == 27: \n",
    "    cv2.destroyAllWindows()"
   ]
  },
  {
   "cell_type": "markdown",
   "id": "3ea7a4d8",
   "metadata": {},
   "source": [
    "Bitwise operations are used in image manipulation and used for extracting essential parts in the image. \n",
    "\n",
    "Bitwise operations used are : \n",
    "AND\n",
    "OR\n",
    "XOR\n",
    "NOT"
   ]
  },
  {
   "cell_type": "code",
   "execution_count": 53,
   "id": "340872c9",
   "metadata": {},
   "outputs": [],
   "source": [
    "# cv2.bitwise_\n",
    "dest_and = cv2.bitwise_not(image2, mask = None)\n",
    "\n",
    "cv2.imshow('Bitwise And', dest_and)\n",
    "  \n",
    "if cv2.waitKey(0) & 0xff == 27: \n",
    "    cv2.destroyAllWindows() "
   ]
  },
  {
   "cell_type": "code",
   "execution_count": 60,
   "id": "fe9445ab",
   "metadata": {},
   "outputs": [],
   "source": [
    "import cv2\n",
    "import numpy as np\n",
    "img1 = np.zeros((250, 500, 3), np.uint8)\n",
    "img1 = cv2.rectangle(img1,(10, 10), (135, 250), (255, 255, 255), -1)\n",
    "img2=np.full((250,500,3),255,np.uint8)\n",
    "img2=cv2.circle(img2,(250,40),100,(0,0,0),-1)\n",
    "cv2.imshow(\"img1\", img1)\n",
    "cv2.imshow(\"img2\", img2)\n",
    "cv2.waitKey(0)\n",
    "cv2.destroyAllWindows() "
   ]
  },
  {
   "cell_type": "code",
   "execution_count": 66,
   "id": "c3a5c88e",
   "metadata": {},
   "outputs": [],
   "source": [
    "cv2.imshow(\"img1\", img1)\n",
    "cv2.imshow(\"img2\", img2)\n",
    "bitAnd = cv2.bitwise_and(img1, img2,mask = None)\n",
    "cv2.imshow('bitAnd', bitAnd)\n",
    "cv2.waitKey(0)\n",
    "cv2.destroyAllWindows()"
   ]
  },
  {
   "cell_type": "code",
   "execution_count": 67,
   "id": "6ffb99bb",
   "metadata": {},
   "outputs": [],
   "source": [
    "bitOr = cv2.bitwise_or(img2, img1,mask = None)\n",
    "cv2.imshow('bitOr', bitOr)\n",
    "cv2.waitKey(0)\n",
    "cv2.destroyAllWindows()"
   ]
  },
  {
   "cell_type": "code",
   "execution_count": 68,
   "id": "4e556bcc",
   "metadata": {},
   "outputs": [],
   "source": [
    "bitXor = cv2.bitwise_xor(img1, img2)\n",
    "cv2.imshow('bitXor', bitXor)\n",
    "cv2.waitKey(0)\n",
    "cv2.destroyAllWindows()"
   ]
  },
  {
   "cell_type": "code",
   "execution_count": 64,
   "id": "c3ed7ea2",
   "metadata": {},
   "outputs": [],
   "source": [
    "bitNot1 = cv2.bitwise_not(img1)\n",
    "bitNot2 = cv2.bitwise_not(img2)\n",
    "cv2.imshow('bitNot1', bitNot1)\n",
    "cv2.imshow('bitNot2', bitNot2)\n",
    "cv2.waitKey(0)\n",
    "cv2.destroyAllWindows()"
   ]
  },
  {
   "cell_type": "code",
   "execution_count": null,
   "id": "5d1483fd",
   "metadata": {},
   "outputs": [],
   "source": [
    "\n"
   ]
  }
 ],
 "metadata": {
  "kernelspec": {
   "display_name": "Python 3 (ipykernel)",
   "language": "python",
   "name": "python3"
  },
  "language_info": {
   "codemirror_mode": {
    "name": "ipython",
    "version": 3
   },
   "file_extension": ".py",
   "mimetype": "text/x-python",
   "name": "python",
   "nbconvert_exporter": "python",
   "pygments_lexer": "ipython3",
   "version": "3.9.7"
  }
 },
 "nbformat": 4,
 "nbformat_minor": 5
}
