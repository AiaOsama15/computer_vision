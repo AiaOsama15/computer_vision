{
 "cells": [
  {
   "cell_type": "code",
   "execution_count": 27,
   "id": "555f0cbf",
   "metadata": {},
   "outputs": [
    {
     "data": {
      "text/plain": [
       "-1"
      ]
     },
     "execution_count": 27,
     "metadata": {},
     "output_type": "execute_result"
    }
   ],
   "source": [
    "##  Revesion on (waitKey()) ##\n",
    "#waitkey() allows users to display a window for given milliseconds \n",
    "#or until any key is pressed\n",
    "import cv2\n",
    "img = cv2.imread(\"a.jpg\")\n",
    "cv2.imshow('hab', img) \n",
    "#Display image with a time limit\n",
    "cv2.waitKey(5000)\n",
    "cv2.destroyAllWindows()"
   ]
  },
  {
   "cell_type": "code",
   "execution_count": 3,
   "id": "44ada3d4",
   "metadata": {},
   "outputs": [],
   "source": [
    "import cv2\n",
    "img = cv2.imread(\"a.jpg\")\n",
    "cv2.imshow('gfg', img)\n",
    "#Display image until key pressed\n",
    "cv2.waitKey(0)\n",
    "cv2.destroyAllWindows()"
   ]
  },
  {
   "cell_type": "markdown",
   "id": "f0482024",
   "metadata": {},
   "source": [
    "############  Handle Mouse Events ############\n",
    "\n",
    "There can be different types of mouse events such as left button click, right button click, double_click, etc. To manage these events we need to design callback functions for each type of mouse click event while the window or frame is opened by OpenCV.The callback function will be helpful to implement what type of functionality you want with a particular mouse click event."
   ]
  },
  {
   "cell_type": "code",
   "execution_count": 28,
   "id": "f1aed5d2",
   "metadata": {},
   "outputs": [
    {
     "name": "stdout",
     "output_type": "stream",
     "text": [
      "['EVENT_FLAG_ALTKEY', 'EVENT_FLAG_CTRLKEY', 'EVENT_FLAG_LBUTTON', 'EVENT_FLAG_MBUTTON', 'EVENT_FLAG_RBUTTON', 'EVENT_FLAG_SHIFTKEY', 'EVENT_LBUTTONDBLCLK', 'EVENT_LBUTTONDOWN', 'EVENT_LBUTTONUP', 'EVENT_MBUTTONDBLCLK', 'EVENT_MBUTTONDOWN', 'EVENT_MBUTTONUP', 'EVENT_MOUSEHWHEEL', 'EVENT_MOUSEMOVE', 'EVENT_MOUSEWHEEL', 'EVENT_RBUTTONDBLCLK', 'EVENT_RBUTTONDOWN', 'EVENT_RBUTTONUP']\n"
     ]
    }
   ],
   "source": [
    "events = [i for i in dir(cv2) if 'EVENT' in  i]\n",
    "# for i in dir(cv2):\n",
    "#     if i =='EVENT':\n",
    "#         print(i)\n",
    "print(events)\n"
   ]
  },
  {
   "cell_type": "code",
   "execution_count": 54,
   "id": "70e3ff3b",
   "metadata": {},
   "outputs": [
    {
     "name": "stdout",
     "output_type": "stream",
     "text": [
      "['EVENT_FLAG_ALTKEY', 'EVENT_FLAG_CTRLKEY', 'EVENT_FLAG_LBUTTON', 'EVENT_FLAG_MBUTTON', 'EVENT_FLAG_RBUTTON', 'EVENT_FLAG_SHIFTKEY', 'EVENT_LBUTTONDBLCLK', 'EVENT_LBUTTONDOWN', 'EVENT_LBUTTONUP', 'EVENT_MBUTTONDBLCLK', 'EVENT_MBUTTONDOWN', 'EVENT_MBUTTONUP', 'EVENT_MOUSEHWHEEL', 'EVENT_MOUSEMOVE', 'EVENT_MOUSEWHEEL', 'EVENT_RBUTTONDBLCLK', 'EVENT_RBUTTONDOWN', 'EVENT_RBUTTONUP']\n"
     ]
    }
   ],
   "source": [
    "import numpy as np\n",
    "import cv2\n",
    "\n",
    "events = [i for i in dir(cv2) if 'EVENT' in  i]\n",
    "# for i in dir(cv2):\n",
    "#     if i =='EVENT':\n",
    "#         print(i)\n",
    "print(events)\n",
    "\n",
    "##define the events for the mouse_click.\n",
    "\n",
    "def click_event(event, x, y, flags, param):\n",
    "## to check if left mouse button was clicked\n",
    "    if event == cv2.EVENT_LBUTTONDOWN:\n",
    "#         print(x,', ' ,y)\n",
    "        font = cv2.FONT_HERSHEY_SIMPLEX ## font for left click event\n",
    "        strXY = str(x) + ', '+ str(y)\n",
    "\n",
    "## display that left button was clicked\n",
    "        cv2.putText(img, strXY, (x, y), font, .5, (0, 0, 0), 2)\n",
    "        cv2.imshow('image', img)\n",
    "#\n",
    "    if event == cv2.EVENT_RBUTTONDOWN:\n",
    "        blue = img[y, x, 0]\n",
    "        green = img[y, x, 1]\n",
    "        red = img[y, x, 2]\n",
    "        font = cv2.FONT_HERSHEY_SIMPLEX\n",
    "        strBGR = str(blue) + ', '+ str(green)+ ', '+ str(red)\n",
    "        cv2.putText(img, strBGR, (x, y), font, 1, (20, 255, 255), 1)\n",
    "        cv2.imshow('image', img)\n",
    "\n",
    "img = cv2.imread('a.jpg')\n",
    "cv2.imshow('image', img)\n",
    "\n",
    "cv2.setMouseCallback('image', click_event)\n",
    "\n",
    "cv2.waitKey(0)\n",
    "cv2.destroyAllWindows()"
   ]
  },
  {
   "cell_type": "markdown",
   "id": "04cf707c",
   "metadata": {},
   "source": [
    "############ Video Manipulation ############"
   ]
  },
  {
   "cell_type": "markdown",
   "id": "8c05e9b8",
   "metadata": {},
   "source": [
    "To capture a video, we need to create a VideoCapture object. VideoCapture have the device index or the name of a video file. Device index is just the number to specify which camera. If we pass 0 then it is for first camera, 1 for second camera so on. We capture the video frame by frame."
   ]
  },
  {
   "cell_type": "markdown",
   "id": "adb4c818",
   "metadata": {},
   "source": [
    " Syntax\n",
    "\n",
    "cv2.VideoCapture(0): Means first camera or webcam.\n",
    "\n",
    "cv2.VideoCapture(1):  Means second camera or webcam.\n",
    "\n",
    "cv2.VideoCapture(“file name.mp4”): Means video file"
   ]
  },
  {
   "cell_type": "code",
   "execution_count": 75,
   "id": "7725fa9c",
   "metadata": {},
   "outputs": [],
   "source": [
    "\n",
    "#Step 1: Import the required modules,\n",
    "import cv2\n",
    "import numpy as np"
   ]
  },
  {
   "cell_type": "code",
   "execution_count": 76,
   "id": "9b1f6e5a",
   "metadata": {},
   "outputs": [],
   "source": [
    "#Step 2: Creating the object of the VideoCapture and read the input file\n",
    "#cap = cv2.VideoCapture('21.avi')\n",
    "cap = cv2.VideoCapture(0)"
   ]
  },
  {
   "cell_type": "code",
   "execution_count": 79,
   "id": "b60c31fa",
   "metadata": {},
   "outputs": [],
   "source": [
    "cap = cv2.VideoCapture('d.mp4')"
   ]
  },
  {
   "cell_type": "code",
   "execution_count": 80,
   "id": "b16b2bce",
   "metadata": {},
   "outputs": [],
   "source": [
    "#Step 3: Check if the camera is opened or not,\n",
    "\n",
    "if (cap.isOpened()== False): \n",
    "# Give a error message\n",
    "    print(\"Error opening video file\")"
   ]
  },
  {
   "cell_type": "code",
   "execution_count": 81,
   "id": "c287289d",
   "metadata": {},
   "outputs": [],
   "source": [
    "#Step 4: Entire file is read frame by frame,\n",
    "\n",
    "# Read the entire file until it is completed\n",
    "while(cap.isOpened()):\n",
    "      \n",
    "# Capture frame-by-frame\n",
    "    ret, frame = cap.read()\n",
    "    if ret == True:\n",
    "    # Display the resulting frame\n",
    "        cv2.imshow('Frame', frame)\n",
    "    \n",
    "    # Press Q on keyboard to exit\n",
    "        if cv2.waitKey(25) & 0xFF == ord('q'):\n",
    "            break\n",
    "# Break the loop\n",
    "\n",
    "    else:\n",
    "        break\n",
    "cap.release()\n",
    "cv2.destroyAllWindows()"
   ]
  },
  {
   "cell_type": "code",
   "execution_count": null,
   "id": "84becc62",
   "metadata": {},
   "outputs": [],
   "source": []
  }
 ],
 "metadata": {
  "kernelspec": {
   "display_name": "Python 3 (ipykernel)",
   "language": "python",
   "name": "python3"
  },
  "language_info": {
   "codemirror_mode": {
    "name": "ipython",
    "version": 3
   },
   "file_extension": ".py",
   "mimetype": "text/x-python",
   "name": "python",
   "nbconvert_exporter": "python",
   "pygments_lexer": "ipython3",
   "version": "3.9.7"
  }
 },
 "nbformat": 4,
 "nbformat_minor": 5
}
