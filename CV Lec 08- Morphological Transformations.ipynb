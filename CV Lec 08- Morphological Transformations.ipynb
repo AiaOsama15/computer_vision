{
 "cells": [
  {
   "cell_type": "markdown",
   "id": "48029141",
   "metadata": {},
   "source": [
    "##########  Morphological Transformations   #######\n",
    "\n",
    "Morphological transformations are some simple operations based on the image shape. It is normally performed on binary images. It needs two inputs, one is our original image, second one is called structuring element or kernel which decides the nature of operation. Two basic morphological operators are Erosion and Dilation. Then its variant forms like Opening, Closing, Gradient etc also comes into play."
   ]
  },
  {
   "cell_type": "markdown",
   "id": "2cab5fc2",
   "metadata": {},
   "source": [
    "Erosion\n",
    "The pixel in the original image is retained, if all the pixels under the kernel are 1.\n",
    "\n",
    "Otherwise it is made 0 and thus, it causes erosion. All the pixels near the boundary are discarded. This process is useful for removing white noises.\n",
    "The command for the erode() function in OpenCV is as follows −\n",
    "\n",
    "cv.erode(src, kernel, dst, anchor, iterations)\n",
    "Parameters\n",
    "\n",
    "The erode() function in OpenCV uses following parameters −\n",
    "\n",
    "The src and dst parameters are input and output image arrays of the same size. Kernel is a matrix of structuring elements used for erosion. For example, 3X3 or 5X5.\n",
    "\n",
    "The anchor parameter is -1 by default which means the anchor element is at center. Iterations refers to the number of times erosion is applied."
   ]
  },
  {
   "cell_type": "markdown",
   "id": "0b8c2c06",
   "metadata": {},
   "source": [
    "Dilation\n",
    "It is just the opposite of erosion. Here, a pixel element is 1, if at least one pixel under the kernel is 1. As a result, it increases the white region in the image.\n",
    "\n",
    "The command for the dilate() function is as follows −\n",
    "\n",
    "cv.dilate(src, kernel, dst, anchor, iterations)\n",
    "Parameters:\n",
    "\n",
    "The dilate() function has the same parameters such as that of erode() function. Both functions can have additional optional parameters as BorderType and borderValue.\n",
    "\n",
    "BorderType is an enumerated type of image boundaries (CONSTANT, REPLICATE, TRANSPERANT etc.)\n",
    "\n",
    "borderValue is used in case of a constant border. By default, it is 0."
   ]
  },
  {
   "cell_type": "code",
   "execution_count": null,
   "id": "080673f6",
   "metadata": {},
   "outputs": [],
   "source": [
    "# import the necessary packages\n",
    "import cv2\n",
    "import numpy as np\n",
    "import matplotlib.pyplot as plt\n",
    "\n",
    "# read the image\n",
    "#img = cv2.imread(\"MorphTrans.jpg\")\n",
    "img = cv2.imread(\"img1.png\")\n",
    "\n",
    "kernel = np.ones((5,5),np.uint8)\n",
    "#print (kernel)\n",
    "erosion = cv2.erode(img,kernel,iterations = 1)\n",
    "dilation = cv2.dilate(img,kernel,iterations = 1)\n",
    "\n",
    "cv2.imshow('Original', img)\n",
    "cv2.imshow('Erosion', erosion)\n",
    "cv2.imshow('Dialation', dilation)\n",
    "\n",
    "cv2.waitKey(0)\n",
    "cv2.destroyAllWindows()"
   ]
  },
  {
   "cell_type": "code",
   "execution_count": 4,
   "id": "9bbd9364",
   "metadata": {},
   "outputs": [],
   "source": [
    "import cv2\n",
    "import matplotlib.pyplot as plt\n",
    "import numpy as np\n",
    "\n",
    "#img = cv2.imread(\"coins.jpeg\", 0)\n",
    "img = cv2.imread(\"MorphTrans.jpg\")\n",
    "\n",
    "\"\"\"\n",
    "For every pixel, the same threshold value is applied. \n",
    "If the pixel value is smaller than the threshold, it is set to 0,\n",
    "otherwise it is set to a maximum value. \n",
    "The function cv.threshold is used to apply the thresholding. \n",
    "The first argument is the source image, which should be a grayscale\n",
    "image. The second argument is the threshold value which is used to classify the pixel values. \n",
    "The third argument is the maximum value which is assigned to pixel \n",
    "values exceeding the threshold.\n",
    "\"\"\"\n",
    "\n",
    "ret,th = cv2.threshold(img,0,255,cv2.THRESH_BINARY_INV)\n",
    "\n",
    "kernel = np.ones((3,3),np.uint8)   # 3x3 kernel with all ones. \n",
    "erosion = cv2.erode(th,kernel,iterations = 1)  #Erodes pixels based on the kernel defined\n",
    "\n",
    "dilation = cv2.dilate(erosion,kernel,iterations = 1)  #Apply dilation after erosion to see the effect. \n",
    "\n",
    "#Erosion followed by dilation can be a single operation called opening\n",
    "opening = cv2.morphologyEx(th, cv2.MORPH_OPEN, kernel)  # Compare this image with the previous one\n",
    "\n",
    "#Closing is opposit, dilation followed by erosion.\n",
    "closing = cv2.morphologyEx(th, cv2.MORPH_CLOSE, kernel)\n",
    "\n",
    "#Morphological gradient. This is the difference between dilation and erosion of an image\n",
    "gradient = cv2.morphologyEx(th, cv2.MORPH_GRADIENT, kernel)\n",
    "\n",
    "#It is the difference between input image and Opening of the image. \n",
    "tophat = cv2.morphologyEx(th, cv2.MORPH_TOPHAT, kernel)\n",
    "\n",
    "#It is the difference between the closing of the input image and input image.\n",
    "blackhat = cv2.morphologyEx(img, cv2.MORPH_BLACKHAT, kernel)\n",
    "\n",
    "cv2.imshow(\"Original Image\", img)\n",
    "cv2.imshow(\"erosion\", erosion)\n",
    "cv2.imshow(\"dilation\", dilation)\n",
    "cv2.imshow(\"opening\", opening)\n",
    "cv2.imshow(\"closing\", closing)\n",
    "cv2.imshow(\"gradient\", gradient)\n",
    "cv2.imshow(\"tophat\", tophat)\n",
    "cv2.imshow(\"blackhat\", blackhat)\n",
    "\n",
    "cv2.waitKey(0)          \n",
    "cv2.destroyAllWindows() "
   ]
  },
  {
   "cell_type": "code",
   "execution_count": null,
   "id": "571d4867",
   "metadata": {},
   "outputs": [],
   "source": []
  }
 ],
 "metadata": {
  "kernelspec": {
   "display_name": "Python 3 (ipykernel)",
   "language": "python",
   "name": "python3"
  },
  "language_info": {
   "codemirror_mode": {
    "name": "ipython",
    "version": 3
   },
   "file_extension": ".py",
   "mimetype": "text/x-python",
   "name": "python",
   "nbconvert_exporter": "python",
   "pygments_lexer": "ipython3",
   "version": "3.10.9"
  }
 },
 "nbformat": 4,
 "nbformat_minor": 5
}
