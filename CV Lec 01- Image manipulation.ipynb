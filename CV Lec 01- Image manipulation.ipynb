{
 "cells": [
  {
   "cell_type": "code",
   "execution_count": null,
   "id": "50c23c79",
   "metadata": {},
   "outputs": [],
   "source": [
    "!pip install opencv_python \n",
    "!pip install numpy\n",
    "!pip install matplotlib\n",
    "!pip install opencv-contrib-python"
   ]
  },
  {
   "cell_type": "code",
   "execution_count": 15,
   "id": "b79aac5c",
   "metadata": {},
   "outputs": [],
   "source": [
    "import cv2\n",
    "import matplolib.pyplot as plt\n",
    "import numpy as np"
   ]
  },
  {
   "cell_type": "code",
   "execution_count": null,
   "id": "abb43a96",
   "metadata": {},
   "outputs": [],
   "source": [
    "#lap 1\n",
    "img=cv2.imread(\"a.png\")\n",
    "cv2.imshow(\"girl_image\",img)\n",
    "cv2.waitKey(0)\n",
    "cv2.destroyAllWindows()\n",
    "#lap2     read using plt\n",
    "img=cv2.imread(\"a.png\")\n",
    "plt.imshow(img)\n",
    "cv2.waitKey(0)\n",
    "cv2.destroyAllWindows()\n",
    "#lap3  conv plt color to cv2 color\n",
    "img=cv2.imread(\"a.png\")\n",
    "cvt_img=cv2.cvtColor(img,cv2.COLOR_BGR2RGB)\n",
    "plt.imshow(cvt_img)\n",
    "cv2.waitKey(0)\n",
    "cv2.destroyAllWindows()\n",
    "#lap4   read img grayscall\n",
    "img=cv2.imread(\"a.png\",cv2.IMREAD_GRAYSCALE)\n",
    "cv2.imshow(\"girl_image\",img)\n",
    "cv2.waitKey(0)\n",
    "cv2.destroyAllWindows()\n",
    "#lap5  creat video read it\n",
    "cap=cv2.VideoCapture(\"\")\n",
    "\n",
    "while(true):\n",
    "     ret,frame=cap.read()\n",
    "     if ret==true:\n",
    "          cv2.imshow('frame',frame)\n",
    "       \n",
    "          cv2.waitKey(0)& 0xff==ord('q')\n",
    "          break\n",
    "          cap.release()\n",
    "          cv2.destroyAllWindows()\n"
   ]
  },
  {
   "cell_type": "code",
   "execution_count": null,
   "id": "5d354738",
   "metadata": {},
   "outputs": [],
   "source": [
    "# conv video into frames\n",
    "cap=cv2.VideoCapture(\"\")\n",
    "count=1\n",
    "while(true):\n",
    "     ret,frame=cap.read()\n",
    "     path='E:/Test/'+str(count)+'.jpg'\n",
    "     if ret==true:\n",
    "          cv2.imwrite(path,frame)\n",
    "          count=count+1\n",
    "          else:\n",
    "               break\n",
    "          print('DONE')\n",
    "         "
   ]
  },
  {
   "cell_type": "code",
   "execution_count": null,
   "id": "9fb1aef4",
   "metadata": {},
   "outputs": [],
   "source": [
    "#backgroundsubtraction\n",
    "cap=cv2.VideoCapture(\"\")\n",
    "fg1=cv2.bgsegm.creatBackgroundSubtractorMOG()\n",
    "while(true):\n",
    "     ret,frame=cap.read()\n",
    "     fgmask=fg1.apply(frame)\n",
    "     if ret==true:\n",
    "          cv2.imshow('frame',fgmask)\n",
    "       \n",
    "          cv2.waitKey(0)& 0xff==ord('q')\n",
    "          break\n",
    "          cap.release()\n",
    "          cv2.destroyAllWindows()\n",
    "\n"
   ]
  }
 ],
 "metadata": {
  "kernelspec": {
   "display_name": "Python 3 (ipykernel)",
   "language": "python",
   "name": "python3"
  },
  "language_info": {
   "codemirror_mode": {
    "name": "ipython",
    "version": 3
   },
   "file_extension": ".py",
   "mimetype": "text/x-python",
   "name": "python",
   "nbconvert_exporter": "python",
   "pygments_lexer": "ipython3",
   "version": "3.9.7"
  }
 },
 "nbformat": 4,
 "nbformat_minor": 5
}
